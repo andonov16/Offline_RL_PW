{
 "cells": [
  {
   "cell_type": "code",
   "execution_count": 1,
   "metadata": {},
   "outputs": [
    {
     "name": "stdout",
     "output_type": "stream",
     "text": [
      "d:\\University\\5th_Semester\\Practical_Work_in_AI\\Offline_RL_PW\n"
     ]
    }
   ],
   "source": [
    "import os\n",
    "import numpy as np\n",
    "import sys\n",
    "import torch\n",
    "import copy\n",
    "from tqdm import tqdm\n",
    "from torch.utils.tensorboard import SummaryWriter\n",
    "\n",
    "# navigates to the main project folder\n",
    "project_root = os.path.abspath(os.path.join(os.path.dirname(\"__file__\"), \"../\"))\n",
    "if project_root not in sys.path:\n",
    "    sys.path.append(project_root)\n",
    "    \n",
    "from src.behavior_cloning import *\n",
    "from src.utils.data_loading import *\n",
    "print(project_root)"
   ]
  },
  {
   "cell_type": "markdown",
   "metadata": {},
   "source": [
    "<h2> Loading Data </h2>"
   ]
  },
  {
   "cell_type": "code",
   "execution_count": 2,
   "metadata": {},
   "outputs": [],
   "source": [
    "rb_observations, rb_next_observations, rb_actions, rb_rewards, rb_dones = load_data()\n",
    "fp_observations, fp_next_observations, fp_actions, fp_rewards, fp_dones = load_data('../data/final_policy.npz')\n",
    "rb_df = load_data_as_df(rb_observations, rb_next_observations, rb_actions, rb_rewards, rb_dones)\n",
    "fp_df = load_data_as_df(fp_observations, fp_next_observations, fp_actions, fp_rewards, fp_dones)"
   ]
  },
  {
   "cell_type": "markdown",
   "metadata": {},
   "source": [
    "<h2> Implementations </h2>"
   ]
  },
  {
   "cell_type": "markdown",
   "metadata": {},
   "source": [
    "<h2> Testing </h2>"
   ]
  },
  {
   "cell_type": "code",
   "execution_count": 3,
   "metadata": {},
   "outputs": [],
   "source": [
    "from sklearn.metrics import accuracy_score\n",
    "from sklearn.svm import SVC"
   ]
  },
  {
   "cell_type": "code",
   "execution_count": 4,
   "metadata": {},
   "outputs": [],
   "source": [
    "train_loader, test_loader, valid_loader = get_BC_data_loaders(observations=rb_observations, actions=rb_actions.flatten(),\n",
    "                                                              train=0.7, test=0.15, validation=0.15,\n",
    "                                                              batch_size=32, seed=16)\n"
   ]
  },
  {
   "cell_type": "code",
   "execution_count": 5,
   "metadata": {},
   "outputs": [],
   "source": [
    "def get_data(data_loader) -> tuple:\n",
    "    all_data = []\n",
    "    all_labels = []\n",
    "\n",
    "    for data, labels in data_loader:\n",
    "        all_data.append(data)\n",
    "        all_labels.append(labels)\n",
    "\n",
    "    # Convert lists into a single tensor, if needed\n",
    "    all_data = torch.cat(all_data, dim=0)\n",
    "    all_labels = torch.cat(all_labels, dim=0)\n",
    "\n",
    "    return np.array(all_data), np.array(all_labels)"
   ]
  },
  {
   "cell_type": "code",
   "execution_count": null,
   "metadata": {},
   "outputs": [],
   "source": [
    "#SVMs\n",
    "# Define hyperparameter grid\n",
    "def grid_search_SVMs(X_train: np.array, y_train: np.array, X_valid: np.array, y_valid: np.array, param_grid: dict) -> tuple: # (dict, model, score, logs)\n",
    "    grid_search_results = []\n",
    "\n",
    "    best_score = 0\n",
    "    best_params = None\n",
    "    best_model = None\n",
    "\n",
    "    for C in tqdm(param_grid['C']):\n",
    "        for kernel in param_grid['kernel']:\n",
    "            for gamma in param_grid['gamma']:\n",
    "                model = SVC(C=C, kernel=kernel, gamma=gamma)\n",
    "                model.fit(X_train, y_train)\n",
    "                \n",
    "                y_val_pred = model.predict(X_valid)\n",
    "                score = accuracy_score(y_valid, y_val_pred)\n",
    "                grid_search_results.append(({'C': C, 'kernel': kernel, 'gamma': gamma}, score))\n",
    "                \n",
    "                \n",
    "                hyperparams = {'C': C, 'kernel': kernel, 'gamma': gamma}\n",
    "                if score > best_score:\n",
    "                    best_score = score\n",
    "                    best_params = hyperparams\n",
    "                    best_model = model\n",
    "                # print(f'{hyperparams}: {score}')\n",
    "                \n",
    "                if kernel == 'linear' or kernel =='poly':\n",
    "                    break\n",
    "                print('Curr Valid Accuracy: {score}')\n",
    "\n",
    "    print('='*100)\n",
    "    print(\"Best hyperparameters:\", best_params)\n",
    "    print(\"Best validation accuracy:\", best_score)\n",
    "    return best_params, best_model, best_score, grid_search_results"
   ]
  },
  {
   "cell_type": "code",
   "execution_count": null,
   "metadata": {},
   "outputs": [
    {
     "name": "stdout",
     "output_type": "stream",
     "text": [
      "Classifier type: SVM\n"
     ]
    },
    {
     "name": "stderr",
     "output_type": "stream",
     "text": [
      "  0%|          | 0/5 [00:00<?, ?it/s]"
     ]
    }
   ],
   "source": [
    "param_grid = {\n",
    "    'C': [0.01, 0.1, 1, 10, 100], \n",
    "    'kernel': ['poly', 'rbf', 'sigmoid'], \n",
    "    'gamma': ['scale', 0.001, 0.01, 0.1]\n",
    "}\n",
    "\n",
    "print('Classifier type: SVM')\n",
    "\n",
    "X_train, y_train = get_data(train_loader)\n",
    "X_test, y_test = get_data(test_loader)\n",
    "X_valid, y_valid = get_data(valid_loader)\n",
    "\n",
    "svm_best_hyperparams, svm_best_model, svm_best_valid_score, svm_grid_search_logs_SVM = grid_search_SVMs(X_train=X_train,\n",
    "                                                                                    y_train=y_train,\n",
    "                                                                                    X_valid=X_valid,\n",
    "                                                                                    y_valid=y_valid,\n",
    "                                                                                    param_grid = param_grid)\n",
    "y_pred = svm_best_model.predict(X_test)\n",
    "score = accuracy_score(y_test, y_pred)\n",
    "print('test accuracy:', score)"
   ]
  }
 ],
 "metadata": {
  "kernelspec": {
   "display_name": "Python 3",
   "language": "python",
   "name": "python3"
  },
  "language_info": {
   "codemirror_mode": {
    "name": "ipython",
    "version": 3
   },
   "file_extension": ".py",
   "mimetype": "text/x-python",
   "name": "python",
   "nbconvert_exporter": "python",
   "pygments_lexer": "ipython3",
   "version": "3.10.7"
  }
 },
 "nbformat": 4,
 "nbformat_minor": 2
}
